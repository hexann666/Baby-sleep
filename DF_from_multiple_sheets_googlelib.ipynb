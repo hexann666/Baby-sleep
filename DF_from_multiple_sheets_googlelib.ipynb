{
 "cells": [
  {
   "cell_type": "code",
   "execution_count": 44,
   "metadata": {},
   "outputs": [],
   "source": [
    "from googleapiclient.discovery import build\n",
    "from oauth2client.service_account import ServiceAccountCredentials\n",
    "import regex as re\n",
    "\n",
    "Spreadsheet_ID = '1PvDofnCSTH5MH4vdU9J0fsaTjYzthPpmp4jgUvVU1Lc'\n",
    "scope = ['https://spreadsheets.google.com/feeds','https://www.googleapis.com/auth/drive']\n",
    "creds = ServiceAccountCredentials.from_json_keyfile_name('Babysleep-tryout-client-secret.json', scope)\n",
    "\n",
    "\n",
    "service = build('sheets', 'v4', credentials=creds)\n",
    "sheet_metadata = service.spreadsheets().get(spreadsheetId=Spreadsheet_ID).execute()"
   ]
  },
  {
   "cell_type": "code",
   "execution_count": 45,
   "metadata": {},
   "outputs": [
    {
     "name": "stdout",
     "output_type": "stream",
     "text": [
      "['1. Рябцева Анна (Яна)', '2. Родченко Алена (Вероника)', '3. Рыбакова Анастасия (Нина)', '4. Войновы Варвара и Антон (Ия)', '5. Кирута Наталья (Демьян)']\n",
      "[['Рябцева Анна (Яна)'], ['Родченко Алена (Вероника)'], ['Рыбакова Анастасия (Нина)'], ['Войновы Варвара и Антон (Ия)'], ['Кирута Наталья (Демьян)']]\n"
     ]
    }
   ],
   "source": [
    "# exract client names from the sheet names\n",
    "\n",
    "sheet_names = []\n",
    "names = []\n",
    "properties = sheet_metadata.get('sheets')\n",
    "\n",
    "# extract title from properties to thelist sheet_names\n",
    "for item in properties:\n",
    "    sheet_names.append(item.get(\"properties\").get('title'))\n",
    "    \n",
    "print(sheet_names)\n",
    "for name in sheet_names:\n",
    "    names.append(re.findall('((?<=\\s).*)', name))\n",
    "    # regex for parents name\n",
    "    # print(re.findall('([^\\d\\s\\.]+\\s+[^\\d\\s\\.]+)', name)[0])\n",
    "    # regex for childs name\n",
    "    # print(re.findall('\\(.*?\\)', name)[0])\n",
    "print(names)"
   ]
  },
  {
   "cell_type": "code",
   "execution_count": null,
   "metadata": {},
   "outputs": [],
   "source": [
    "sheet = service.spreadsheets()\n",
    "range_notation = sheet_names[1]\n",
    "result = sheet.values().get(spreadsheetId=Spreadsheet_ID,\n",
    "                            range=range_notation).execute()\n",
    "\n",
    "rows = result.get('values', [])\n",
    "if not rows:\n",
    "    print('No data found.')\n",
    "else:\n",
    "\n",
    "    keys = dict((v,k) for k,v in enumerate(rows[0]))\n",
    "\n",
    "    for row in rows[1:]:\n",
    "        # print(row[keys['url']])\n",
    "        print(row)"
   ]
  }
 ],
 "metadata": {
  "kernelspec": {
   "display_name": "Python 3",
   "language": "python",
   "name": "python3"
  },
  "language_info": {
   "codemirror_mode": {
    "name": "ipython",
    "version": 3
   },
   "file_extension": ".py",
   "mimetype": "text/x-python",
   "name": "python",
   "nbconvert_exporter": "python",
   "pygments_lexer": "ipython3",
   "version": "3.8.3"
  }
 },
 "nbformat": 4,
 "nbformat_minor": 4
}
