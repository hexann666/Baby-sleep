{
 "cells": [
  {
   "cell_type": "code",
   "execution_count": 1,
   "metadata": {},
   "outputs": [],
   "source": [
    "# key_diary = '1PvDofnCSTH5MH4vdU9J0fsaTjYzthPpmp4jgUvVU1Lc'"
   ]
  },
  {
   "cell_type": "code",
   "execution_count": null,
   "metadata": {},
   "outputs": [],
   "source": [
    "### Connect using gspread\n",
    "\n",
    "import gspread\n",
    "\n",
    "gc = gspread.service_account(filename = 'Babysleep-tryout-client-secret.json')\n",
    "\n",
    "# get the instance of the Spreadsheet\n",
    "sheet = gc.open('Babysleep-diaries_18.01.21-19.02.21')"
   ]
  },
  {
   "cell_type": "code",
   "execution_count": null,
   "metadata": {},
   "outputs": [],
   "source": [
    "# Returns a list of all worksheets in a spreadsheet.\n",
    "print(sheet.worksheets())\n",
    "\n",
    "# Returns a worksheet with specified title. The returning object is an instance of Worksheet.\n",
    "#sht1 = sheet.worksheet('1. Рябцева Анна (Яна)')\n",
    "#sht1"
   ]
  },
  {
   "cell_type": "markdown",
   "metadata": {},
   "source": [
    "Import spreadsheet as a dataframe"
   ]
  },
  {
   "cell_type": "code",
   "execution_count": 135,
   "metadata": {},
   "outputs": [
    {
     "name": "stdout",
     "output_type": "stream",
     "text": [
      "shape of DataFrame:  (967, 98)\n",
      "row count of DataFrame:\n",
      " Дата рождения        367\n",
      "Дата                 367\n",
      "Мес.                 367\n",
      "Дн.                  367\n",
      "УТРО (проснулись)     52\n",
      "                    ... \n",
      "НОЧЬ (уже спит)       51\n",
      "ИТОГО дл-ть НС       367\n",
      "ИТОГО СНА            367\n",
      "Unnamed: 96            0\n",
      "Unnamed: 97            0\n",
      "Length: 98, dtype: int64\n"
     ]
    }
   ],
   "source": [
    "import gspread_dataframe as gd\n",
    "\n",
    "df = gd.get_as_dataframe(sheet_instance,evaluate_formulas = True,skiprows = 1, has_header = True)\n",
    "\n",
    "#how many columns and rows?\n",
    "print('shape of DataFrame: ', df.shape) #with NaN values in rows\n",
    "print('row count of DataFrame:\\n', df.count())\n",
    "\n",
    "# import colunm names\n",
    "# print(df.columns)"
   ]
  },
  {
   "cell_type": "code",
   "execution_count": null,
   "metadata": {},
   "outputs": [],
   "source": [
    "# print one column\n",
    "df[['ВРЕМЯ засыпания в НОЧЬ (пережолили / отпустил грудь / вышли из комнаты и т.п.)', 'Кол-во ночных проб-й']]"
   ]
  },
  {
   "cell_type": "markdown",
   "metadata": {},
   "source": [
    "Визуализация:\n",
    "у одного ребенка - время первого пробуждения каждый день, количество просыпаний каждый день\n",
    "у всех детей - количество просыпаний каждый день, swarmplot / barplot после groupby по количеству просіпаний"
   ]
  },
  {
   "cell_type": "code",
   "execution_count": 6,
   "metadata": {},
   "outputs": [
    {
     "name": "stdout",
     "output_type": "stream",
     "text": [
      "\u001b[1mHello\u001b[0m \u001b[1mworld\u001b[0m "
     ]
    }
   ],
   "source": [
    "# https://stackoverflow.com/questions/8924173/how-do-i-print-bold-text-in-python\n",
    "# https://www.geeksforgeeks.org/args-kwargs-python/#:~:text=The%20special%20syntax%20**kwargs,and%20any%20number%20of%20them).\n",
    "\n",
    "def pr_bold(*argv):\n",
    "    for arg in argv:\n",
    "        print('\\033[1m',arg,'\\033[0m',sep='', end=' ')\n",
    "\n",
    "pr_bold('Hello', 'world')"
   ]
  },
  {
   "cell_type": "markdown",
   "metadata": {},
   "source": [
    "Prepare the DataFrame with only data to be visualised:\n",
    "\n",
    "1. select columns needed for visualisation in a separate DataFrame\n",
    "2. check, if there are NaNs - is it normal?\n",
    "3. delete NaNs\n",
    "4. adjust data types: date, time, integers..."
   ]
  },
  {
   "cell_type": "code",
   "execution_count": 145,
   "metadata": {},
   "outputs": [
    {
     "data": {
      "text/html": [
       "<div>\n",
       "<style scoped>\n",
       "    .dataframe tbody tr th:only-of-type {\n",
       "        vertical-align: middle;\n",
       "    }\n",
       "\n",
       "    .dataframe tbody tr th {\n",
       "        vertical-align: top;\n",
       "    }\n",
       "\n",
       "    .dataframe thead th {\n",
       "        text-align: right;\n",
       "    }\n",
       "</style>\n",
       "<table border=\"1\" class=\"dataframe\">\n",
       "  <thead>\n",
       "    <tr style=\"text-align: right;\">\n",
       "      <th></th>\n",
       "      <th>Date</th>\n",
       "      <th>First wake up time</th>\n",
       "      <th>Sleep starting time</th>\n",
       "      <th>Nr of night wake ups</th>\n",
       "    </tr>\n",
       "  </thead>\n",
       "  <tbody>\n",
       "    <tr>\n",
       "      <th>0</th>\n",
       "      <td>18.01.21</td>\n",
       "      <td>6:50</td>\n",
       "      <td>20:10</td>\n",
       "      <td>4.0</td>\n",
       "    </tr>\n",
       "    <tr>\n",
       "      <th>1</th>\n",
       "      <td>19.01.21</td>\n",
       "      <td>7:57</td>\n",
       "      <td>20:25</td>\n",
       "      <td>4.0</td>\n",
       "    </tr>\n",
       "    <tr>\n",
       "      <th>2</th>\n",
       "      <td>20.01.21</td>\n",
       "      <td>8:00</td>\n",
       "      <td>20:35</td>\n",
       "      <td>4.0</td>\n",
       "    </tr>\n",
       "    <tr>\n",
       "      <th>3</th>\n",
       "      <td>21.01.21</td>\n",
       "      <td>7:28</td>\n",
       "      <td>20:05</td>\n",
       "      <td>4.0</td>\n",
       "    </tr>\n",
       "    <tr>\n",
       "      <th>4</th>\n",
       "      <td>22.01.21</td>\n",
       "      <td>7:52</td>\n",
       "      <td>19:50</td>\n",
       "      <td>3.0</td>\n",
       "    </tr>\n",
       "    <tr>\n",
       "      <th>...</th>\n",
       "      <td>...</td>\n",
       "      <td>...</td>\n",
       "      <td>...</td>\n",
       "      <td>...</td>\n",
       "    </tr>\n",
       "    <tr>\n",
       "      <th>962</th>\n",
       "      <td>NaN</td>\n",
       "      <td>NaN</td>\n",
       "      <td>NaN</td>\n",
       "      <td>NaN</td>\n",
       "    </tr>\n",
       "    <tr>\n",
       "      <th>963</th>\n",
       "      <td>NaN</td>\n",
       "      <td>NaN</td>\n",
       "      <td>NaN</td>\n",
       "      <td>NaN</td>\n",
       "    </tr>\n",
       "    <tr>\n",
       "      <th>964</th>\n",
       "      <td>NaN</td>\n",
       "      <td>NaN</td>\n",
       "      <td>NaN</td>\n",
       "      <td>NaN</td>\n",
       "    </tr>\n",
       "    <tr>\n",
       "      <th>965</th>\n",
       "      <td>NaN</td>\n",
       "      <td>NaN</td>\n",
       "      <td>NaN</td>\n",
       "      <td>NaN</td>\n",
       "    </tr>\n",
       "    <tr>\n",
       "      <th>966</th>\n",
       "      <td>NaN</td>\n",
       "      <td>NaN</td>\n",
       "      <td>NaN</td>\n",
       "      <td>NaN</td>\n",
       "    </tr>\n",
       "  </tbody>\n",
       "</table>\n",
       "<p>967 rows × 4 columns</p>\n",
       "</div>"
      ],
      "text/plain": [
       "         Date First wake up time Sleep starting time  Nr of night wake ups\n",
       "0    18.01.21               6:50               20:10                   4.0\n",
       "1    19.01.21               7:57               20:25                   4.0\n",
       "2    20.01.21               8:00               20:35                   4.0\n",
       "3    21.01.21               7:28               20:05                   4.0\n",
       "4    22.01.21               7:52               19:50                   3.0\n",
       "..        ...                ...                 ...                   ...\n",
       "962       NaN                NaN                 NaN                   NaN\n",
       "963       NaN                NaN                 NaN                   NaN\n",
       "964       NaN                NaN                 NaN                   NaN\n",
       "965       NaN                NaN                 NaN                   NaN\n",
       "966       NaN                NaN                 NaN                   NaN\n",
       "\n",
       "[967 rows x 4 columns]"
      ]
     },
     "execution_count": 145,
     "metadata": {},
     "output_type": "execute_result"
    }
   ],
   "source": [
    "def create_df(df1, list1, list2):\n",
    "    \"\"\" Creates a new DataFrame from an existing DataFrame df1.\n",
    "    From df1 data from columns from list1 will be copied. The columns in the new DataFrame\n",
    "    wil be called according to the list2. The order of the names must be the same \n",
    "    in list1 and list2.\n",
    "    \"\"\"\n",
    "    df2 = pd.DataFrame()\n",
    "    df2 = df1.loc[:, list1]\n",
    "    dict_col = {}\n",
    "    df2.columns = list2\n",
    "    return df2\n",
    "\n",
    "columns1 = ['Дата ', 'УТРО (проснулись)', 'ВРЕМЯ засыпания в НОЧЬ (пережолили / отпустил грудь / вышли из комнаты и т.п.)', 'Кол-во ночных проб-й']\n",
    "columns2 = ['Date', 'First wake up time', 'Sleep starting time', 'Nr of night wake ups']\n",
    "df_vis = create_df(df, columns1, columns2)\n",
    "df_vis"
   ]
  },
  {
   "cell_type": "code",
   "execution_count": 156,
   "metadata": {},
   "outputs": [
    {
     "name": "stdout",
     "output_type": "stream",
     "text": [
      "\u001b[1mShape after creation:\u001b[0m (49, 4)\n",
      "\u001b[1mDataFrame for visualisation:\n",
      "\u001b[0m        Date First wake up time Sleep starting time  Nr of night wake ups\n",
      "0  18.01.21               6:50               20:10                     4\n",
      "1  19.01.21               7:57               20:25                     4\n",
      "2  20.01.21               8:00               20:35                     4\n",
      "3  21.01.21               7:28               20:05                     4\n",
      "4  22.01.21               7:52               19:50                     3\n",
      "\u001b[1m\n",
      "NaNs in Data Frame?\u001b[0m False\n",
      "\u001b[1m\n",
      "NaNs are in following columns:\n",
      "\u001b[0m Date                    0\n",
      "First wake up time      0\n",
      "Sleep starting time     0\n",
      "Nr of night wake ups    0\n",
      "dtype: int64\n",
      "\u001b[1m\n",
      "Shape after NaN extraction:\u001b[0m (49, 4)\n",
      "\u001b[1m\n",
      "Any NaN left?\n",
      "\u001b[0m Date                    False\n",
      "First wake up time      False\n",
      "Sleep starting time     False\n",
      "Nr of night wake ups    False\n",
      "dtype: bool\n",
      "\n",
      "<class 'pandas.core.frame.DataFrame'>\n",
      "Int64Index: 49 entries, 0 to 50\n",
      "Data columns (total 4 columns):\n",
      " #   Column                Non-Null Count  Dtype \n",
      "---  ------                --------------  ----- \n",
      " 0   Date                  49 non-null     object\n",
      " 1   First wake up time    49 non-null     object\n",
      " 2   Sleep starting time   49 non-null     object\n",
      " 3   Nr of night wake ups  49 non-null     int32 \n",
      "dtypes: int32(1), object(3)\n",
      "memory usage: 1.7+ KB\n"
     ]
    }
   ],
   "source": [
    "# Analysis of NaN in the newly created DF\n",
    "\n",
    "pr_bold('Shape after creation:')\n",
    "print(df_vis.shape)\n",
    "pr_bold('DataFrame for visualisation:\\n')\n",
    "print(df_vis.head())\n",
    "pr_bold('\\nNaNs in Data Frame?')\n",
    "print(df_vis.isnull().values.any())\n",
    "pr_bold('\\nNaNs are in following columns:\\n')\n",
    "print(df_vis.isnull().sum())\n",
    "\n",
    "df_vis.dropna(axis=0, how='any', inplace=True) #, subset=['Nr of night wake ups'])\n",
    "pr_bold('\\nShape after NaN extraction:')\n",
    "print(df_vis.shape)\n",
    "#pr_bold('DataFrame after NaN extraction:\\n')\n",
    "#print(df_vis.head())\n",
    "pr_bold('\\nAny NaN left?\\n')\n",
    "print(df_vis.isnull().any())\n",
    "print()\n",
    "df_vis['Nr of night wake ups'] = df_vis['Nr of night wake ups'].astype(int)\n",
    "df_vis.info()"
   ]
  },
  {
   "cell_type": "code",
   "execution_count": 94,
   "metadata": {},
   "outputs": [
    {
     "name": "stdout",
     "output_type": "stream",
     "text": [
      "{'q': 'a', 'w': 's', 'r': 'd', 't': 'f', 'z': 'g'}\n"
     ]
    }
   ],
   "source": [
    "# create a dictionary for renaming of columns\n",
    "\n",
    "list1 = ['q', 'w', 'r', 't', 'z']\n",
    "list2 = ['a', 's', 'd', 'f', 'g']\n",
    "dict_col={}\n",
    "for i in range(len(list1)):\n",
    "    dict_col[list1[i]] = list2[i]\n",
    "print(dict_col)"
   ]
  },
  {
   "cell_type": "code",
   "execution_count": 8,
   "metadata": {},
   "outputs": [
    {
     "name": "stdout",
     "output_type": "stream",
     "text": [
      "<class 'pandas.core.frame.DataFrame'>\n",
      "Int64Index: 49 entries, 0 to 50\n",
      "Data columns (total 6 columns):\n",
      " #   Column                        Non-Null Count  Dtype \n",
      "---  ------                        --------------  ----- \n",
      " 0   Date                          49 non-null     object\n",
      " 1   First wake up time            49 non-null     object\n",
      " 2   Sleep starting time           49 non-null     object\n",
      " 3   Nr of night wake ups          49 non-null     int32 \n",
      " 4   First wake up time timestamp  49 non-null     object\n",
      " 5   First wake up time to int     49 non-null     int64 \n",
      "dtypes: int32(1), int64(1), object(4)\n",
      "memory usage: 2.5+ KB\n",
      "None\n"
     ]
    }
   ],
   "source": [
    "import time\n",
    "\n",
    "# convert time into a timestamp with hours and minutes \n",
    "df_vis['First wake up time timestamp'] = pd.to_datetime(df_vis['First wake up time'], format='%H:%M').dt.time\n",
    "\n",
    "# convert timestamp to a number\n",
    "df_vis['First wake up time to int'] = [int(t.strftime('%H%M')) for t in df_vis['First wake up time timestamp']]\n",
    "\n",
    "print(df_vis.info()) #.iloc[:,[0,1,3]])"
   ]
  },
  {
   "cell_type": "code",
   "execution_count": 52,
   "metadata": {},
   "outputs": [
    {
     "name": "stdout",
     "output_type": "stream",
     "text": [
      "[ 1  2  3  4  5  6  7  8  9 10 11 12 13 14 15 16 17 18 19 20 21 22 23 24\n",
      " 25 26 27 28 29 30 31 32 33 34 35 36 37 38 39 40 41 42 43 44 45 46 47 48\n",
      " 49]\n"
     ]
    },
    {
     "data": {
      "image/png": "[encoded data removed]",
      "text/plain": [
       "<Figure size 432x288 with 1 Axes>"
      ]
     },
     "metadata": {
      "needs_background": "light"
     },
     "output_type": "display_data"
    }
   ],
   "source": [
    "import matplotlib.pyplot as plt\n",
    "import matplotlib\n",
    "import numpy as np\n",
    "\n",
    "x = df_vis['Date']\n",
    "y = df_vis['First wake up time to int']\n",
    "x2 = np.arange(1, len(x)+1) # needed for linear regression\n",
    "\n",
    "plt.plot(x,y,'o', alpha=0.8)\n",
    "# rotate the x ticks and define their frequency\n",
    "plt.xticks(np.arange(0, len(x)+1, 7), rotation = 90)\n",
    "\n",
    "#labels = [str(t.hour) + ':' + str(t.minute) for t in df_vis['First wake up time timestamp']]\n",
    "#plt.yticks(labels=labels)\n",
    "m, b = np.polyfit(x2, y, 1)\n",
    "# m = slope, b=intercept\n",
    "\n",
    "plt.plot(x2, m*x2 + b)\n",
    "plt.show()"
   ]
  },
  {
   "cell_type": "code",
   "execution_count": 56,
   "metadata": {},
   "outputs": [
    {
     "data": {
      "text/plain": [
       "[Text(0, 0, '18.01.21'),\n",
       " Text(0, 0, '23.01.21'),\n",
       " Text(0, 0, '28.01.21'),\n",
       " Text(0, 0, '02.02.21'),\n",
       " Text(0, 0, '07.02.21'),\n",
       " Text(0, 0, '12.02.21'),\n",
       " Text(0, 0, '17.02.21'),\n",
       " Text(0, 0, '24.02.21'),\n",
       " Text(0, 0, '01.03.21'),\n",
       " Text(0, 0, '06.03.21')]"
      ]
     },
     "execution_count": 56,
     "metadata": {},
     "output_type": "execute_result"
    },
    {
     "data": {
      "image/png": "[encoded data removed]",
      "text/plain": [
       "<Figure size 432x288 with 2 Axes>"
      ]
     },
     "metadata": {
      "needs_background": "light"
     },
     "output_type": "display_data"
    }
   ],
   "source": [
    "df_vis.sort_values('First wake up time to int')\n",
    "\n",
    "fig, ax1 = plt.subplots(1,1)\n",
    "\n",
    "ax1.scatter(df_vis['Date'], df_vis['First wake up time to int'], color='red')\n",
    "labels = [str(t.hour) + ':' + str(t.minute) for t in df_vis['First wake up time timestamp']]\n",
    "\n",
    "xlabels = list(df_vis['Date'][::5])\n",
    "ax1.set_xticks(df_vis['Date'][::5])\n",
    "ax1.set_xticklabels(xlabels, rotation=90)\n",
    "#ax1.set_yticklabels(labels, minor=False, rotation=45)\n",
    "\n",
    "#set x-axis label\n",
    "ax1.set_xlabel('Date',fontsize=14)\n",
    "# set y-axis label\n",
    "ax1.set_ylabel('Wake up time', color='red',fontsize=14)\n",
    "\n",
    "# twin object for two different y-axis on the sample plot\n",
    "ax2=ax1.twinx()\n",
    "\n",
    "# make a plot with different y-axis using second axis object\n",
    "ax2.scatter(df_vis['Date'], df_vis['Nr of night wake ups'],color='blue',marker=\"o\")\n",
    "ax2.set_ylabel('Nr of night wake ups',color='blue',fontsize=14)\n",
    "ax2.set_xticks(df_vis['Date'][::5])\n",
    "ax2.set_xticklabels(xlabels, rotation=90)"
   ]
  },
  {
   "cell_type": "code",
   "execution_count": 40,
   "metadata": {},
   "outputs": [
    {
     "data": {
      "image/png": "[encoded data removed]",
      "text/plain": [
       "<Figure size 432x288 with 1 Axes>"
      ]
     },
     "metadata": {
      "needs_background": "light"
     },
     "output_type": "display_data"
    }
   ],
   "source": [
    "import seaborn as sns\n",
    "\n",
    "gr_df_vis = df_vis.groupby('Nr of night wake ups', as_index=False).count()\n",
    "#print(gr_df_vis.head())\n",
    "sns.barplot(x='Nr of night wake ups', y='Date', data=gr_df_vis)\n",
    "plt.yticks(np.arange(0, 21, 2))\n",
    "plt.show()"
   ]
  }
 ],
 "metadata": {
  "kernelspec": {
   "display_name": "Python 3",
   "language": "python",
   "name": "python3"
  },
  "language_info": {
   "codemirror_mode": {
    "name": "ipython",
    "version": 3
   },
   "file_extension": ".py",
   "mimetype": "text/x-python",
   "name": "python",
   "nbconvert_exporter": "python",
   "pygments_lexer": "ipython3",
   "version": "3.8.3"
  }
 },
 "nbformat": 4,
 "nbformat_minor": 4
}
